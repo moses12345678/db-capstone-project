{
 "cells": [
  {
   "cell_type": "code",
   "execution_count": 11,
   "id": "bdcf3b4b-b3a0-4bcb-a3d8-157cccc6f0a7",
   "metadata": {},
   "outputs": [
    {
     "name": "stdout",
     "output_type": "stream",
     "text": [
      "Successfully connected...\n"
     ]
    }
   ],
   "source": [
    "#First Step etablish the connection\n",
    "import mysql.connector\n",
    "from mysql.connector import Error\n",
    "\n",
    "# Define your database configurations as a Python dictionary\n",
    "dbconfig = {\n",
    "     \"database\": \"little_lemon_db\",\n",
    "    \"user\": \"root\",\n",
    "    \"password\": \"\",\n",
    "}\n",
    "\n",
    "try:\n",
    "    # Establish a connection\n",
    "    connection = mysql.connector.connect(**dbconfig)\n",
    "    print(\"Successfully connected...\")\n",
    "    # Close the cursor and connection\n",
    "    connection.close()\n",
    "\n",
    "except mysql.connector.Error as err:\n",
    "    print(\"Error:\", err)\n",
    "\n"
   ]
  },
  {
   "cell_type": "code",
   "execution_count": 12,
   "id": "50e876c8-3605-479c-b938-452421f5efc4",
   "metadata": {},
   "outputs": [
    {
     "name": "stdout",
     "output_type": "stream",
     "text": [
      "Customers\n",
      "Employees\n",
      "MenuItems\n",
      "Menus\n",
      "Orders\n"
     ]
    }
   ],
   "source": [
    "# query to show all tables within the database \n",
    "\n",
    "import mysql.connector\n",
    "from mysql.connector import Error\n",
    "\n",
    "# Define your database configurations as a Python dictionary\n",
    "dbconfig = {\n",
    "    \"database\": \"little_lemon_db\",\n",
    "    \"user\": \"root\",\n",
    "    \"password\": \"\",\n",
    "}\n",
    "\n",
    "try:\n",
    "    # Establish a connection\n",
    "    connection = mysql.connector.connect(**dbconfig)\n",
    "    \n",
    "    # Create a cursor\n",
    "    cursor = connection.cursor()\n",
    "\n",
    "    # Execute the query to show all tables\n",
    "    cursor.execute(\"SHOW TABLES\")\n",
    "\n",
    "    # Fetch and print the results\n",
    "    tables = cursor.fetchall()\n",
    "    for table in tables:\n",
    "        print(table[0])\n",
    "\n",
    "    # Close the cursor and connection\n",
    "    cursor.close()\n",
    "    connection.close()\n",
    "\n",
    "except mysql.connector.Error as err:\n",
    "    print(\"Error:\", err)"
   ]
  },
  {
   "cell_type": "code",
   "execution_count": 14,
   "id": "42d4401a-1a27-4b37-8e40-3a5a10fcf047",
   "metadata": {},
   "outputs": [
    {
     "name": "stdout",
     "output_type": "stream",
     "text": [
      "CustomerID: 1, Firstname: Anna, LastName: Iversen, OrderID: 1, Quantity: 2, Cost: 86\n",
      "CustomerID: 2, Firstname: Joakim, LastName: Iversen, OrderID: 1, Quantity: 8, Cost: 65\n"
     ]
    }
   ],
   "source": [
    "# TASK #: name and contact details for every customer that has placed an order greater than $60\n",
    "import mysql.connector\n",
    "from mysql.connector import Error\n",
    "\n",
    "# Define your database configurations as a Python dictionary\n",
    "dbconfig = {\n",
    "    \"database\": \"little_lemon_db\",\n",
    "    \"user\": \"root\",\n",
    "    \"password\": \"\",\n",
    "}\n",
    "\n",
    "try:\n",
    "    # Establish a connection\n",
    "    connection = mysql.connector.connect(**dbconfig)\n",
    "\n",
    "    # Create a cursor\n",
    "    cursor = connection.cursor()\n",
    "\n",
    "    # Execute the query\n",
    "    query = \"SELECT c.CustomerID, c.Firstname, c.LastName, o.OrderID, o.Quantity, o.Cost FROM customers AS c INNER JOIN orders AS o ON c.customerID = o.customerID WHERE o.Cost > 60\"\n",
    "    cursor.execute(query)\n",
    "\n",
    "    # Fetch and print the results\n",
    "    results = cursor.fetchall()\n",
    "    for row in results:\n",
    "        print(f\"CustomerID: {row[0]}, Firstname: {row[1]}, LastName: {row[2]}, OrderID: {row[3]}, Quantity: {row[4]}, Cost: {row[5]}\")\n",
    "\n",
    "    # Close the cursor and connection\n",
    "    cursor.close()\n",
    "    connection.close()\n",
    "\n",
    "except mysql.connector.Error as err:\n",
    "    print(\"Error:\", err)\n"
   ]
  },
  {
   "cell_type": "code",
   "execution_count": 13,
   "id": "c54e5b59-768e-4061-a61f-de8a34798f8e",
   "metadata": {},
   "outputs": [
    {
     "name": "stdout",
     "output_type": "stream",
     "text": [
      "[]\n"
     ]
    }
   ],
   "source": [
    "# THis is the addBooking\n",
    "\n",
    "import mysql.connector\n",
    "\n",
    "# Define your database configurations as a Python dictionary\n",
    "dbconfig = {\n",
    "    \"database\": \"little_lemon_db\",\n",
    "    \"user\": \"root\",\n",
    "    \"password\": \"\",\n",
    "}\n",
    "\n",
    "try:\n",
    "    # Establish a connection\n",
    "    connection = mysql.connector.connect(**dbconfig)\n",
    "\n",
    "    # Create a cursor\n",
    "    cursor = connection.cursor()\n",
    "\n",
    "    # Call the AddBooking() procedure with the given parameters\n",
    "    booking_id = 99\n",
    "    customer_id = 99\n",
    "    table_number = 99\n",
    "    booking_date = \"2022-12-10\"\n",
    "\n",
    "    # Create the SQL statement with placeholders for the procedure parameters\n",
    "    procedure_call = \"CALL AddBooking(%s, %s, %s, %s)\"\n",
    "\n",
    "    # Execute the procedure with the provided parameters\n",
    "    cursor.execute(procedure_call, (booking_id, customer_id, table_number, booking_date))\n",
    "\n",
    "    # Commit the changes (assuming the procedure handles transactions)\n",
    "    connection.commit()\n",
    "\n",
    "    # Print out the result using the fetchall() method (if the procedure returns any result)\n",
    "    result = cursor.fetchall()\n",
    "    print(result)\n",
    "\n",
    "    # Close the cursor and connection\n",
    "    cursor.close()\n",
    "    connection.close()\n",
    "\n",
    "except mysql.connector.Error as err:\n",
    "    print(\"Error:\", err)\n"
   ]
  },
  {
   "cell_type": "code",
   "execution_count": 10,
   "id": "0bf71a33-1179-496a-b9ab-e10d1fb9d293",
   "metadata": {},
   "outputs": [
    {
     "name": "stdout",
     "output_type": "stream",
     "text": [
      "[]\n"
     ]
    }
   ],
   "source": [
    "# This is the UpdateBooking() procedure\n",
    "import mysql.connector\n",
    "\n",
    "# Define your database configurations as a Python dictionary\n",
    "dbconfig = {\n",
    "    \"database\": \"little_lemon_db\",\n",
    "    \"user\": \"root\",\n",
    "    \"password\": \"\",\n",
    "}\n",
    "\n",
    "try:\n",
    "    # Establish a connection\n",
    "    connection = mysql.connector.connect(**dbconfig)\n",
    "\n",
    "    # Create a cursor\n",
    "    cursor = connection.cursor()\n",
    "\n",
    "    # Call the UpdateBooking() procedure with the given parameters\n",
    "    table_number = 99\n",
    "    booking_date = \"2025-12-12\"\n",
    "\n",
    "    # Create the SQL statement with placeholders for the procedure parameters\n",
    "    procedure_call = \"CALL UpdateBooking(%s, %s)\"\n",
    "\n",
    "    # Execute the procedure with the provided parameters\n",
    "    cursor.execute(procedure_call, (table_number, booking_date))\n",
    "\n",
    "    # Commit the changes (assuming the procedure handles transactions)\n",
    "    connection.commit()\n",
    "\n",
    "    # Print out the result using the fetchall() method (if the procedure returns any result)\n",
    "    result = cursor.fetchall()\n",
    "    print(result)\n",
    "\n",
    "    # Close the cursor and connection\n",
    "    cursor.close()\n",
    "    connection.close()\n",
    "\n",
    "except mysql.connector.Error as err:\n",
    "    print(\"Error:\", err)\n"
   ]
  },
  {
   "cell_type": "code",
   "execution_count": 12,
   "id": "522fb7df-2b06-4a1a-91e2-c0f72de4d1ae",
   "metadata": {},
   "outputs": [
    {
     "name": "stdout",
     "output_type": "stream",
     "text": [
      "[]\n"
     ]
    }
   ],
   "source": [
    "# CReate cancel booking procedure\n",
    "import mysql.connector\n",
    "\n",
    "# Define your database configurations as a Python dictionary\n",
    "dbconfig = {\n",
    "    \"database\": \"little_lemon_db\",\n",
    "    \"user\": \"root\",\n",
    "    \"password\": \"\",\n",
    "}\n",
    "\n",
    "try:\n",
    "    # Establish a connection\n",
    "    connection = mysql.connector.connect(**dbconfig)\n",
    "\n",
    "    # Create a cursor\n",
    "    cursor = connection.cursor()\n",
    "\n",
    "    # Call the CancelBooking() procedure with the given parameter\n",
    "    table_number = 99\n",
    "\n",
    "    # Create the SQL statement with placeholders for the procedure parameter\n",
    "    procedure_call = \"CALL CancelBooking(%s)\"\n",
    "\n",
    "    # Execute the procedure with the provided parameter\n",
    "    cursor.execute(procedure_call, (table_number,))\n",
    "\n",
    "    # Commit the changes (assuming the procedure handles transactions)\n",
    "    connection.commit()\n",
    "\n",
    "    # Print out the result using the fetchall() method (if the procedure returns any result)\n",
    "    result = cursor.fetchall()\n",
    "    print(result)\n",
    "\n",
    "    # Close the cursor and connection\n",
    "    cursor.close()\n",
    "    connection.close()\n",
    "\n",
    "except mysql.connector.Error as err:\n",
    "    print(\"Error:\", err)\n"
   ]
  },
  {
   "cell_type": "code",
   "execution_count": null,
   "id": "e48a9a25-1ad3-44db-b0f5-8e948003d986",
   "metadata": {},
   "outputs": [],
   "source": []
  }
 ],
 "metadata": {
  "kernelspec": {
   "display_name": "Python 3 (ipykernel)",
   "language": "python",
   "name": "python3"
  },
  "language_info": {
   "codemirror_mode": {
    "name": "ipython",
    "version": 3
   },
   "file_extension": ".py",
   "mimetype": "text/x-python",
   "name": "python",
   "nbconvert_exporter": "python",
   "pygments_lexer": "ipython3",
   "version": "3.9.13"
  }
 },
 "nbformat": 4,
 "nbformat_minor": 5
}
