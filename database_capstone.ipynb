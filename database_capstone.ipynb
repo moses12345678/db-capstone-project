{
 "cells": [
  {
   "cell_type": "code",
   "execution_count": 11,
   "id": "bdcf3b4b-b3a0-4bcb-a3d8-157cccc6f0a7",
   "metadata": {},
   "outputs": [
    {
     "name": "stdout",
     "output_type": "stream",
     "text": [
      "Successfully connected...\n"
     ]
    }
   ],
   "source": [
    "#First Step etablish the connection\n",
    "import mysql.connector\n",
    "from mysql.connector import Error\n",
    "\n",
    "# Define your database configurations as a Python dictionary\n",
    "dbconfig = {\n",
    "    \"database\": \"little_lemon_db\",\n",
    "    \"user\": \"moses\",\n",
    "    \"password\": \"F@ciles123\",\n",
    "}\n",
    "\n",
    "try:\n",
    "    # Establish a connection\n",
    "    connection = mysql.connector.connect(**dbconfig)\n",
    "    print(\"Successfully connected...\")\n",
    "    # Close the cursor and connection\n",
    "    connection.close()\n",
    "\n",
    "except mysql.connector.Error as err:\n",
    "    print(\"Error:\", err)\n",
    "\n"
   ]
  },
  {
   "cell_type": "code",
   "execution_count": 12,
   "id": "50e876c8-3605-479c-b938-452421f5efc4",
   "metadata": {},
   "outputs": [
    {
     "name": "stdout",
     "output_type": "stream",
     "text": [
      "Customers\n",
      "Employees\n",
      "MenuItems\n",
      "Menus\n",
      "Orders\n"
     ]
    }
   ],
   "source": [
    "# query to show all tables within the database \n",
    "\n",
    "import mysql.connector\n",
    "from mysql.connector import Error\n",
    "\n",
    "# Define your database configurations as a Python dictionary\n",
    "dbconfig = {\n",
    "    \"database\": \"little_lemon_db\",\n",
    "    \"user\": \"root\",\n",
    "    \"password\": \"\",\n",
    "}\n",
    "\n",
    "try:\n",
    "    # Establish a connection\n",
    "    connection = mysql.connector.connect(**dbconfig)\n",
    "    \n",
    "    # Create a cursor\n",
    "    cursor = connection.cursor()\n",
    "\n",
    "    # Execute the query to show all tables\n",
    "    cursor.execute(\"SHOW TABLES\")\n",
    "\n",
    "    # Fetch and print the results\n",
    "    tables = cursor.fetchall()\n",
    "    for table in tables:\n",
    "        print(table[0])\n",
    "\n",
    "    # Close the cursor and connection\n",
    "    cursor.close()\n",
    "    connection.close()\n",
    "\n",
    "except mysql.connector.Error as err:\n",
    "    print(\"Error:\", err)"
   ]
  },
  {
   "cell_type": "code",
   "execution_count": 14,
   "id": "42d4401a-1a27-4b37-8e40-3a5a10fcf047",
   "metadata": {},
   "outputs": [
    {
     "name": "stdout",
     "output_type": "stream",
     "text": [
      "CustomerID: 1, Firstname: Anna, LastName: Iversen, OrderID: 1, Quantity: 2, Cost: 86\n",
      "CustomerID: 2, Firstname: Joakim, LastName: Iversen, OrderID: 1, Quantity: 8, Cost: 65\n"
     ]
    }
   ],
   "source": [
    "# TASK #: name and contact details for every customer that has placed an order greater than $60\n",
    "import mysql.connector\n",
    "from mysql.connector import Error\n",
    "\n",
    "# Define your database configurations as a Python dictionary\n",
    "dbconfig = {\n",
    "    \"database\": \"little_lemon_db\",\n",
    "    \"user\": \"root\",\n",
    "    \"password\": \"\",\n",
    "}\n",
    "\n",
    "try:\n",
    "    # Establish a connection\n",
    "    connection = mysql.connector.connect(**dbconfig)\n",
    "\n",
    "    # Create a cursor\n",
    "    cursor = connection.cursor()\n",
    "\n",
    "    # Execute the query\n",
    "    query = \"SELECT c.CustomerID, c.Firstname, c.LastName, o.OrderID, o.Quantity, o.Cost FROM customers AS c INNER JOIN orders AS o ON c.customerID = o.customerID WHERE o.Cost > 60\"\n",
    "    cursor.execute(query)\n",
    "\n",
    "    # Fetch and print the results\n",
    "    results = cursor.fetchall()\n",
    "    for row in results:\n",
    "        print(f\"CustomerID: {row[0]}, Firstname: {row[1]}, LastName: {row[2]}, OrderID: {row[3]}, Quantity: {row[4]}, Cost: {row[5]}\")\n",
    "\n",
    "    # Close the cursor and connection\n",
    "    cursor.close()\n",
    "    connection.close()\n",
    "\n",
    "except mysql.connector.Error as err:\n",
    "    print(\"Error:\", err)\n"
   ]
  },
  {
   "cell_type": "code",
   "execution_count": 18,
   "id": "6bf6247b-50ab-46fb-8b4c-a31419a69d14",
   "metadata": {},
   "outputs": [
    {
     "name": "stdout",
     "output_type": "stream",
     "text": [
      "Error: 1318 (42000): Incorrect number of arguments for PROCEDURE little_lemon_db.UpdateBooking; expected 0, got 3\n"
     ]
    }
   ],
   "source": [
    "import mysql.connector\n",
    "from mysql.connector import Error\n",
    "\n",
    "# Define your database configurations as a Python dictionary\n",
    "dbconfig = {\n",
    "    \"database\": \"little_lemon_db\",\n",
    "    \"user\": \"root\",\n",
    "    \"password\": \"\",\n",
    "}\n",
    "\n",
    "def call_update_booking_procedure(customerID=None, BookingSlot=None, TableNo=None):\n",
    "    try:\n",
    "        # Establish a connection\n",
    "        connection = mysql.connector.connect(**dbconfig)\n",
    "\n",
    "        # Create a cursor\n",
    "        cursor = connection.cursor()\n",
    "\n",
    "        # Call the UpdateBooking() procedure\n",
    "        procedure_call = \"CALL UpdateBooking(%s, %s, %s)\"\n",
    "        procedure_arguments = (customerID, BookingSlot, TableNo)\n",
    "        cursor.execute(procedure_call, procedure_arguments)\n",
    "\n",
    "        # Commit the changes\n",
    "        connection.commit()\n",
    "\n",
    "        # Close the cursor and connection\n",
    "        cursor.close()\n",
    "        connection.close()\n",
    "\n",
    "        print(\"Booking updated successfully.\")\n",
    "\n",
    "    except mysql.connector.Error as err:\n",
    "        print(\"Error:\", err)\n",
    "\n",
    "# Call the procedure without parameters\n",
    "call_update_booking_procedure()\n"
   ]
  },
  {
   "cell_type": "code",
   "execution_count": null,
   "id": "c54e5b59-768e-4061-a61f-de8a34798f8e",
   "metadata": {},
   "outputs": [],
   "source": []
  }
 ],
 "metadata": {
  "kernelspec": {
   "display_name": "Python 3 (ipykernel)",
   "language": "python",
   "name": "python3"
  },
  "language_info": {
   "codemirror_mode": {
    "name": "ipython",
    "version": 3
   },
   "file_extension": ".py",
   "mimetype": "text/x-python",
   "name": "python",
   "nbconvert_exporter": "python",
   "pygments_lexer": "ipython3",
   "version": "3.9.13"
  }
 },
 "nbformat": 4,
 "nbformat_minor": 5
}
